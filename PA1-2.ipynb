{
 "cells": [
  {
   "cell_type": "code",
   "execution_count": 1,
   "metadata": {},
   "outputs": [
    {
     "name": "stdout",
     "output_type": "stream",
     "text": [
      "Please enter a floating point number:\n",
      "4.5\n",
      "Please enter an integer:\n",
      "9\n"
     ]
    }
   ],
   "source": [
    "userFloat = input(\"Please enter a floating point number:\\n\")\n",
    "\n",
    "userInt = input(\"Please enter an integer:\\n\")\n",
    "userFloat = float(userFloat)\n",
    "userInt = int(userInt)"
   ]
  },
  {
   "cell_type": "code",
   "execution_count": 2,
   "metadata": {},
   "outputs": [],
   "source": [
    "userSum = userFloat + userInt\n",
    "userDiff = userFloat - userInt\n",
    "userProd = userFloat * userInt\n",
    "userQuot = userFloat / userInt"
   ]
  },
  {
   "cell_type": "code",
   "execution_count": null,
   "metadata": {},
   "outputs": [],
   "source": [
    "print(\"The sum of these two values is: \" + str(userSum) + \"\\n\")\n",
    "print(\"The difference of these two values is: \" + str(userDiff) + \"\\n\")\n",
    "print(\"The product of these two values is: \" + str(userProd) + \"\\n\")\n",
    "print(\"The quotient of these two values is: \" + str(userQuot) + \"\\n\")"
   ]
  }
 ],
 "metadata": {
  "kernelspec": {
   "display_name": "Python 3",
   "language": "python",
   "name": "python3"
  },
  "language_info": {
   "codemirror_mode": {
    "name": "ipython",
    "version": 3
   },
   "file_extension": ".py",
   "mimetype": "text/x-python",
   "name": "python",
   "nbconvert_exporter": "python",
   "pygments_lexer": "ipython3",
   "version": "3.7.3"
  }
 },
 "nbformat": 4,
 "nbformat_minor": 2
}
